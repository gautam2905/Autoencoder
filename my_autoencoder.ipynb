{
 "cells": [
  {
   "cell_type": "markdown",
   "metadata": {},
   "source": [
    "### ML-100k"
   ]
  },
  {
   "cell_type": "code",
   "execution_count": null,
   "metadata": {},
   "outputs": [],
   "source": [
    "!wget \"http://files.grouplens.org/datasets/movielens/ml-100k.zip\"\n",
    "!unzip ml-100k.zip\n",
    "!ls"
   ]
  },
  {
   "cell_type": "markdown",
   "metadata": {},
   "source": [
    "### ML-1M"
   ]
  },
  {
   "cell_type": "code",
   "execution_count": null,
   "metadata": {},
   "outputs": [],
   "source": [
    "!wget \"http://files.grouplens.org/datasets/movielens/ml-1m.zip\"\n",
    "!unzip ml-1m.zip\n",
    "!ls"
   ]
  },
  {
   "cell_type": "code",
   "execution_count": 2,
   "metadata": {},
   "outputs": [],
   "source": [
    "import numpy as np\n",
    "import pandas as pd\n",
    "import torch\n",
    "import torch.nn as nn\n",
    "import torch.nn.parallel\n",
    "import torch.optim as optim\n",
    "import torch.utils.data\n",
    "from torch.autograd import Variable\n",
    "import matplotlib.pyplot as plt"
   ]
  },
  {
   "cell_type": "code",
   "execution_count": 3,
   "metadata": {},
   "outputs": [],
   "source": [
    "movies = pd.read_csv('ml-1m/ml-1m/movies.dat',sep = '::' , header=None , engine='python', encoding='latin-1')\n",
    "ratings = pd.read_csv('ml-1m/ml-1m/ratings.dat' , sep='::' , header=None , engine='python' , encoding='latin-1')\n",
    "users = pd.read_csv('ml-1m/ml-1m/users.dat' , sep='::' , header=None , engine='python' , encoding='latin-1')"
   ]
  },
  {
   "cell_type": "code",
   "execution_count": 4,
   "metadata": {},
   "outputs": [
    {
     "data": {
      "text/plain": [
       "19999"
      ]
     },
     "execution_count": 4,
     "metadata": {},
     "output_type": "execute_result"
    }
   ],
   "source": [
    "training_set = pd.read_csv('ml-100k/ml-100k/u1.base' , delimiter='\\t')\n",
    "training_set = np.array(training_set,dtype='int')\n",
    "test_set = pd.read_csv('ml-100k/ml-100k/u1.test' , delimiter='\\t')\n",
    "test_set = np.array(test_set,dtype='int')\n",
    "len(test_set)"
   ]
  },
  {
   "cell_type": "code",
   "execution_count": 5,
   "metadata": {},
   "outputs": [
    {
     "data": {
      "text/plain": [
       "1682"
      ]
     },
     "execution_count": 5,
     "metadata": {},
     "output_type": "execute_result"
    }
   ],
   "source": [
    "nb_users = int(max(max(training_set[:,0]) , max(test_set[:,0])))\n",
    "nb_movies = int(max(max(training_set[:,1]) , max(test_set[:,1])))\n",
    "nb_movies"
   ]
  },
  {
   "cell_type": "code",
   "execution_count": 6,
   "metadata": {},
   "outputs": [],
   "source": [
    "def data_convert( data ):\n",
    "    new_data = []\n",
    "    for id_users in range(1,nb_users+1):\n",
    "        id_movies = data[:,1][data[:,0] == id_users]\n",
    "        id_rating = data[:,2][data[:,0] == id_users]\n",
    "        ratings = np.zeros(nb_movies)\n",
    "        ratings[id_movies-1] = id_rating\n",
    "        new_data.append(list(ratings))\n",
    "    return new_data\n",
    "training_set = data_convert(training_set)\n",
    "test_set = data_convert(test_set)"
   ]
  },
  {
   "cell_type": "code",
   "execution_count": 7,
   "metadata": {},
   "outputs": [
    {
     "data": {
      "text/plain": [
       "tensor([[0., 3., 4.,  ..., 0., 0., 0.],\n",
       "        [4., 0., 0.,  ..., 0., 0., 0.],\n",
       "        [0., 0., 0.,  ..., 0., 0., 0.],\n",
       "        ...,\n",
       "        [5., 0., 0.,  ..., 0., 0., 0.],\n",
       "        [0., 0., 0.,  ..., 0., 0., 0.],\n",
       "        [0., 5., 0.,  ..., 0., 0., 0.]])"
      ]
     },
     "execution_count": 7,
     "metadata": {},
     "output_type": "execute_result"
    }
   ],
   "source": [
    "training_set = torch.FloatTensor(training_set)\n",
    "test_set = torch.FloatTensor(test_set)\n",
    "training_set"
   ]
  },
  {
   "cell_type": "code",
   "execution_count": 8,
   "metadata": {},
   "outputs": [],
   "source": [
    "class SAE(nn.Module):\n",
    "    def __init__(self, ):\n",
    "        super(SAE, self).__init__()\n",
    "        self.fc1 = nn.Linear(nb_movies, 20)\n",
    "        self.fc2 = nn.Linear(20, 10)\n",
    "        self.fc3 = nn.Linear(10, 20)\n",
    "        self.fc4 = nn.Linear(20, nb_movies)\n",
    "        self.activation = nn.Sigmoid()\n",
    "    def forward(self, x):\n",
    "        x = self.activation(self.fc1(x))\n",
    "        x = self.activation(self.fc2(x))\n",
    "        x = self.activation(self.fc3(x))\n",
    "        x = self.fc4(x)\n",
    "        return x\n",
    "sae = SAE()\n",
    "criterion = nn.MSELoss()\n",
    "optimizer = optim.RMSprop(sae.parameters(), lr = 0.01, weight_decay = 0.5)"
   ]
  },
  {
   "cell_type": "code",
   "execution_count": 19,
   "metadata": {},
   "outputs": [
    {
     "name": "stdout",
     "output_type": "stream",
     "text": [
      "test loss: tensor(0.9901)\n",
      "test loss: tensor(0.9888)\n",
      "test loss: tensor(0.9868)\n",
      "test loss: tensor(0.9842)\n",
      "test loss: tensor(0.9836)\n",
      "test loss: tensor(0.9793)\n",
      "test loss: tensor(0.9785)\n",
      "test loss: tensor(0.9749)\n",
      "test loss: tensor(0.9754)\n",
      "test loss: tensor(0.9743)\n",
      "test loss: tensor(0.9725)\n",
      "test loss: tensor(0.9685)\n",
      "test loss: tensor(0.9675)\n",
      "test loss: tensor(0.9671)\n",
      "test loss: tensor(0.9649)\n",
      "test loss: tensor(0.9654)\n",
      "test loss: tensor(0.9638)\n",
      "test loss: tensor(0.9611)\n",
      "test loss: tensor(0.9601)\n",
      "test loss: tensor(0.9615)\n",
      "test loss: tensor(0.9564)\n",
      "test loss: tensor(0.9551)\n",
      "test loss: tensor(0.9559)\n",
      "test loss: tensor(0.9533)\n",
      "test loss: tensor(0.9540)\n",
      "test loss: tensor(0.9515)\n",
      "test loss: tensor(0.9532)\n",
      "test loss: tensor(0.9484)\n",
      "test loss: tensor(0.9510)\n",
      "test loss: tensor(0.9477)\n",
      "test loss: tensor(0.9477)\n",
      "test loss: tensor(0.9455)\n",
      "test loss: tensor(0.9458)\n",
      "test loss: tensor(0.9431)\n",
      "test loss: tensor(0.9449)\n",
      "test loss: tensor(0.9416)\n",
      "test loss: tensor(0.9431)\n",
      "test loss: tensor(0.9410)\n",
      "test loss: tensor(0.9411)\n",
      "test loss: tensor(0.9392)\n",
      "test loss: tensor(0.9402)\n",
      "test loss: tensor(0.9382)\n",
      "test loss: tensor(0.9388)\n",
      "test loss: tensor(0.9363)\n",
      "test loss: tensor(0.9371)\n",
      "test loss: tensor(0.9362)\n",
      "test loss: tensor(0.9365)\n",
      "test loss: tensor(0.9349)\n",
      "test loss: tensor(0.9350)\n",
      "test loss: tensor(0.9338)\n",
      "test loss: tensor(0.9348)\n",
      "test loss: tensor(0.9339)\n",
      "test loss: tensor(0.9343)\n",
      "test loss: tensor(0.9317)\n",
      "test loss: tensor(0.9329)\n",
      "test loss: tensor(0.9313)\n",
      "test loss: tensor(0.9316)\n",
      "test loss: tensor(0.9302)\n",
      "test loss: tensor(0.9311)\n",
      "test loss: tensor(0.9295)\n",
      "test loss: tensor(0.9303)\n",
      "test loss: tensor(0.9294)\n",
      "test loss: tensor(0.9301)\n",
      "test loss: tensor(0.9281)\n",
      "test loss: tensor(0.9282)\n",
      "test loss: tensor(0.9274)\n",
      "test loss: tensor(0.9275)\n",
      "test loss: tensor(0.9263)\n",
      "test loss: tensor(0.9269)\n",
      "test loss: tensor(0.9261)\n",
      "test loss: tensor(0.9264)\n",
      "test loss: tensor(0.9252)\n",
      "test loss: tensor(0.9255)\n",
      "test loss: tensor(0.9245)\n",
      "test loss: tensor(0.9250)\n",
      "test loss: tensor(0.9240)\n",
      "test loss: tensor(0.9243)\n",
      "test loss: tensor(0.9234)\n",
      "test loss: tensor(0.9238)\n",
      "test loss: tensor(0.9228)\n",
      "test loss: tensor(0.9232)\n",
      "test loss: tensor(0.9222)\n",
      "test loss: tensor(0.9228)\n",
      "test loss: tensor(0.9216)\n",
      "test loss: tensor(0.9221)\n",
      "test loss: tensor(0.9211)\n",
      "test loss: tensor(0.9218)\n",
      "test loss: tensor(0.9205)\n",
      "test loss: tensor(0.9215)\n",
      "test loss: tensor(0.9202)\n",
      "test loss: tensor(0.9208)\n",
      "test loss: tensor(0.9198)\n",
      "test loss: tensor(0.9204)\n",
      "test loss: tensor(0.9192)\n",
      "test loss: tensor(0.9199)\n",
      "test loss: tensor(0.9189)\n",
      "test loss: tensor(0.9195)\n",
      "test loss: tensor(0.9187)\n",
      "test loss: tensor(0.9190)\n",
      "test loss: tensor(0.9180)\n"
     ]
    }
   ],
   "source": [
    "epochs = 100\n",
    "training_loss = []\n",
    "# test_loss = []\n",
    "epoc = []\n",
    "for epoch in range(epochs):\n",
    "    train_loss = 0\n",
    "    s=0.\n",
    "    for id_user in range(nb_users):\n",
    "        input = Variable(training_set[id_user]).unsqueeze(0)\n",
    "        # target = Variable(test_set[id_user]).unsqueeze(0)\n",
    "        target = input.clone()\n",
    "        if torch.sum(target.data >0) >0 :\n",
    "            output = sae(input)\n",
    "            target.requires_grad = False\n",
    "            output[target==0] = 0\n",
    "            loss = criterion(output , target)\n",
    "            mean_corrector = nb_movies/float(torch.sum(target.data >0) + 1e-10)\n",
    "            loss.backward()\n",
    "            train_loss += np.sqrt(loss.data*mean_corrector)\n",
    "            training_loss.append(train_loss)\n",
    "            epoc.append(epoch)\n",
    "            s += 1.\n",
    "            optimizer.step()\n",
    "    print('test loss: '+str(train_loss/s))\n"
   ]
  },
  {
   "cell_type": "code",
   "execution_count": 20,
   "metadata": {},
   "outputs": [
    {
     "data": {
      "text/plain": [
       "[<matplotlib.lines.Line2D at 0x15255663610>]"
      ]
     },
     "execution_count": 20,
     "metadata": {},
     "output_type": "execute_result"
    },
    {
     "data": {
      "image/png": "[encoded data removed]",
      "text/plain": [
       "<Figure size 640x480 with 1 Axes>"
      ]
     },
     "metadata": {},
     "output_type": "display_data"
    }
   ],
   "source": [
    "plt.plot(training_loss , epoc)"
   ]
  },
  {
   "cell_type": "code",
   "execution_count": null,
   "metadata": {},
   "outputs": [
    {
     "name": "stdout",
     "output_type": "stream",
     "text": [
      "Epoch: 0 | Loss: 0.68766 | Test Loss: 0.17393\n",
      "Epoch: 1 | Loss: 0.68884 | Test Loss: 0.17367\n",
      "Epoch: 2 | Loss: 0.68763 | Test Loss: 0.17394\n",
      "Epoch: 3 | Loss: 0.68889 | Test Loss: 0.17366\n",
      "Epoch: 4 | Loss: 0.68758 | Test Loss: 0.17397\n",
      "Epoch: 5 | Loss: 0.68897 | Test Loss: 0.17365\n",
      "Epoch: 6 | Loss: 0.68749 | Test Loss: 0.17400\n",
      "Epoch: 7 | Loss: 0.68910 | Test Loss: 0.17363\n",
      "Epoch: 8 | Loss: 0.68736 | Test Loss: 0.17406\n",
      "Epoch: 9 | Loss: 0.68929 | Test Loss: 0.17360\n",
      "Epoch: 10 | Loss: 0.68717 | Test Loss: 0.17414\n",
      "Epoch: 11 | Loss: 0.68956 | Test Loss: 0.17355\n",
      "Epoch: 12 | Loss: 0.68691 | Test Loss: 0.17425\n",
      "Epoch: 13 | Loss: 0.68993 | Test Loss: 0.17350\n",
      "Epoch: 14 | Loss: 0.68655 | Test Loss: 0.17440\n",
      "Epoch: 15 | Loss: 0.69045 | Test Loss: 0.17342\n",
      "Epoch: 16 | Loss: 0.68606 | Test Loss: 0.17461\n",
      "Epoch: 17 | Loss: 0.69115 | Test Loss: 0.17335\n",
      "Epoch: 18 | Loss: 0.68543 | Test Loss: 0.17491\n",
      "Epoch: 19 | Loss: 0.69208 | Test Loss: 0.17329\n",
      "Epoch: 20 | Loss: 0.68469 | Test Loss: 0.17532\n",
      "Epoch: 21 | Loss: 0.69324 | Test Loss: 0.17328\n",
      "Epoch: 22 | Loss: 0.68392 | Test Loss: 0.17584\n",
      "Epoch: 23 | Loss: 0.69455 | Test Loss: 0.17338\n",
      "Epoch: 24 | Loss: 0.68327 | Test Loss: 0.17644\n",
      "Epoch: 25 | Loss: 0.69587 | Test Loss: 0.17362\n",
      "Epoch: 26 | Loss: 0.68290 | Test Loss: 0.17708\n",
      "Epoch: 27 | Loss: 0.69701 | Test Loss: 0.17401\n",
      "Epoch: 28 | Loss: 0.68293 | Test Loss: 0.17766\n",
      "Epoch: 29 | Loss: 0.69781 | Test Loss: 0.17449\n",
      "Epoch: 30 | Loss: 0.68333 | Test Loss: 0.17812\n",
      "Epoch: 31 | Loss: 0.69819 | Test Loss: 0.17496\n",
      "Epoch: 32 | Loss: 0.68400 | Test Loss: 0.17837\n",
      "Epoch: 33 | Loss: 0.69812 | Test Loss: 0.17533\n",
      "Epoch: 34 | Loss: 0.68477 | Test Loss: 0.17835\n",
      "Epoch: 35 | Loss: 0.69760 | Test Loss: 0.17552\n",
      "Epoch: 36 | Loss: 0.68553 | Test Loss: 0.17806\n",
      "Epoch: 37 | Loss: 0.69668 | Test Loss: 0.17553\n",
      "Epoch: 38 | Loss: 0.68616 | Test Loss: 0.17758\n",
      "Epoch: 39 | Loss: 0.69555 | Test Loss: 0.17536\n",
      "Epoch: 40 | Loss: 0.68661 | Test Loss: 0.17700\n",
      "Epoch: 41 | Loss: 0.69440 | Test Loss: 0.17510\n",
      "Epoch: 42 | Loss: 0.68685 | Test Loss: 0.17643\n",
      "Epoch: 43 | Loss: 0.69337 | Test Loss: 0.17479\n",
      "Epoch: 44 | Loss: 0.68694 | Test Loss: 0.17591\n",
      "Epoch: 45 | Loss: 0.69251 | Test Loss: 0.17449\n",
      "Epoch: 46 | Loss: 0.68694 | Test Loss: 0.17549\n",
      "Epoch: 47 | Loss: 0.69184 | Test Loss: 0.17425\n",
      "Epoch: 48 | Loss: 0.68689 | Test Loss: 0.17518\n",
      "Epoch: 49 | Loss: 0.69138 | Test Loss: 0.17406\n",
      "Epoch: 50 | Loss: 0.68682 | Test Loss: 0.17496\n",
      "Epoch: 51 | Loss: 0.69108 | Test Loss: 0.17392\n",
      "Epoch: 52 | Loss: 0.68672 | Test Loss: 0.17482\n",
      "Epoch: 53 | Loss: 0.69090 | Test Loss: 0.17381\n",
      "Epoch: 54 | Loss: 0.68662 | Test Loss: 0.17474\n",
      "Epoch: 55 | Loss: 0.69085 | Test Loss: 0.17373\n",
      "Epoch: 56 | Loss: 0.68650 | Test Loss: 0.17471\n",
      "Epoch: 57 | Loss: 0.69089 | Test Loss: 0.17367\n",
      "Epoch: 58 | Loss: 0.68633 | Test Loss: 0.17472\n",
      "Epoch: 59 | Loss: 0.69104 | Test Loss: 0.17361\n",
      "Epoch: 60 | Loss: 0.68612 | Test Loss: 0.17479\n",
      "Epoch: 61 | Loss: 0.69130 | Test Loss: 0.17356\n",
      "Epoch: 62 | Loss: 0.68584 | Test Loss: 0.17490\n",
      "Epoch: 63 | Loss: 0.69167 | Test Loss: 0.17352\n",
      "Epoch: 64 | Loss: 0.68550 | Test Loss: 0.17506\n",
      "Epoch: 65 | Loss: 0.69218 | Test Loss: 0.17348\n",
      "Epoch: 66 | Loss: 0.68508 | Test Loss: 0.17528\n",
      "Epoch: 67 | Loss: 0.69283 | Test Loss: 0.17345\n",
      "Epoch: 68 | Loss: 0.68460 | Test Loss: 0.17557\n",
      "Epoch: 69 | Loss: 0.69363 | Test Loss: 0.17345\n",
      "Epoch: 70 | Loss: 0.68408 | Test Loss: 0.17593\n",
      "Epoch: 71 | Loss: 0.69456 | Test Loss: 0.17350\n",
      "Epoch: 72 | Loss: 0.68356 | Test Loss: 0.17637\n",
      "Epoch: 73 | Loss: 0.69559 | Test Loss: 0.17361\n",
      "Epoch: 74 | Loss: 0.68310 | Test Loss: 0.17688\n",
      "Epoch: 75 | Loss: 0.69667 | Test Loss: 0.17381\n",
      "Epoch: 76 | Loss: 0.68279 | Test Loss: 0.17741\n",
      "Epoch: 77 | Loss: 0.69768 | Test Loss: 0.17410\n",
      "Epoch: 78 | Loss: 0.68269 | Test Loss: 0.17795\n",
      "Epoch: 79 | Loss: 0.69853 | Test Loss: 0.17446\n",
      "Epoch: 80 | Loss: 0.68282 | Test Loss: 0.17842\n",
      "Epoch: 81 | Loss: 0.69913 | Test Loss: 0.17484\n",
      "Epoch: 82 | Loss: 0.68318 | Test Loss: 0.17877\n",
      "Epoch: 83 | Loss: 0.69940 | Test Loss: 0.17520\n",
      "Epoch: 84 | Loss: 0.68370 | Test Loss: 0.17895\n",
      "Epoch: 85 | Loss: 0.69933 | Test Loss: 0.17549\n",
      "Epoch: 86 | Loss: 0.68430 | Test Loss: 0.17894\n",
      "Epoch: 87 | Loss: 0.69892 | Test Loss: 0.17565\n",
      "Epoch: 88 | Loss: 0.68489 | Test Loss: 0.17875\n",
      "Epoch: 89 | Loss: 0.69826 | Test Loss: 0.17569\n",
      "Epoch: 90 | Loss: 0.68541 | Test Loss: 0.17842\n",
      "Epoch: 91 | Loss: 0.69743 | Test Loss: 0.17562\n",
      "Epoch: 92 | Loss: 0.68581 | Test Loss: 0.17801\n",
      "Epoch: 93 | Loss: 0.69655 | Test Loss: 0.17547\n",
      "Epoch: 94 | Loss: 0.68610 | Test Loss: 0.17758\n",
      "Epoch: 95 | Loss: 0.69570 | Test Loss: 0.17529\n",
      "Epoch: 96 | Loss: 0.68628 | Test Loss: 0.17717\n",
      "Epoch: 97 | Loss: 0.69496 | Test Loss: 0.17508\n",
      "Epoch: 98 | Loss: 0.68635 | Test Loss: 0.17681\n",
      "Epoch: 99 | Loss: 0.69437 | Test Loss: 0.17487\n",
      "Epoch: 100 | Loss: 0.68631 | Test Loss: 0.17651\n",
      "Epoch: 101 | Loss: 0.69394 | Test Loss: 0.17466\n",
      "Epoch: 102 | Loss: 0.68619 | Test Loss: 0.17627\n",
      "Epoch: 103 | Loss: 0.69366 | Test Loss: 0.17447\n",
      "Epoch: 104 | Loss: 0.68600 | Test Loss: 0.17611\n",
      "Epoch: 105 | Loss: 0.69354 | Test Loss: 0.17430\n",
      "Epoch: 106 | Loss: 0.68575 | Test Loss: 0.17603\n",
      "Epoch: 107 | Loss: 0.69359 | Test Loss: 0.17416\n",
      "Epoch: 108 | Loss: 0.68545 | Test Loss: 0.17603\n",
      "Epoch: 109 | Loss: 0.69380 | Test Loss: 0.17404\n",
      "Epoch: 110 | Loss: 0.68508 | Test Loss: 0.17611\n",
      "Epoch: 111 | Loss: 0.69417 | Test Loss: 0.17395\n",
      "Epoch: 112 | Loss: 0.68466 | Test Loss: 0.17626\n",
      "Epoch: 113 | Loss: 0.69468 | Test Loss: 0.17389\n",
      "Epoch: 114 | Loss: 0.68422 | Test Loss: 0.17648\n",
      "Epoch: 115 | Loss: 0.69534 | Test Loss: 0.17388\n",
      "Epoch: 116 | Loss: 0.68377 | Test Loss: 0.17679\n",
      "Epoch: 117 | Loss: 0.69613 | Test Loss: 0.17392\n",
      "Epoch: 118 | Loss: 0.68333 | Test Loss: 0.17717\n",
      "Epoch: 119 | Loss: 0.69701 | Test Loss: 0.17402\n",
      "Epoch: 120 | Loss: 0.68295 | Test Loss: 0.17760\n",
      "Epoch: 121 | Loss: 0.69794 | Test Loss: 0.17419\n",
      "Epoch: 122 | Loss: 0.68267 | Test Loss: 0.17807\n",
      "Epoch: 123 | Loss: 0.69884 | Test Loss: 0.17443\n",
      "Epoch: 124 | Loss: 0.68256 | Test Loss: 0.17855\n",
      "Epoch: 125 | Loss: 0.69962 | Test Loss: 0.17473\n",
      "Epoch: 126 | Loss: 0.68263 | Test Loss: 0.17898\n",
      "Epoch: 127 | Loss: 0.70021 | Test Loss: 0.17507\n",
      "Epoch: 128 | Loss: 0.68289 | Test Loss: 0.17934\n",
      "Epoch: 129 | Loss: 0.70057 | Test Loss: 0.17541\n",
      "Epoch: 130 | Loss: 0.68331 | Test Loss: 0.17958\n",
      "Epoch: 131 | Loss: 0.70065 | Test Loss: 0.17572\n",
      "Epoch: 132 | Loss: 0.68383 | Test Loss: 0.17968\n",
      "Epoch: 133 | Loss: 0.70046 | Test Loss: 0.17595\n",
      "Epoch: 134 | Loss: 0.68439 | Test Loss: 0.17963\n",
      "Epoch: 135 | Loss: 0.70003 | Test Loss: 0.17608\n",
      "Epoch: 136 | Loss: 0.68491 | Test Loss: 0.17945\n",
      "Epoch: 137 | Loss: 0.69943 | Test Loss: 0.17611\n",
      "Epoch: 138 | Loss: 0.68534 | Test Loss: 0.17917\n",
      "Epoch: 139 | Loss: 0.69874 | Test Loss: 0.17604\n",
      "Epoch: 140 | Loss: 0.68566 | Test Loss: 0.17884\n",
      "Epoch: 141 | Loss: 0.69803 | Test Loss: 0.17590\n",
      "Epoch: 142 | Loss: 0.68585 | Test Loss: 0.17848\n",
      "Epoch: 143 | Loss: 0.69737 | Test Loss: 0.17572\n",
      "Epoch: 144 | Loss: 0.68592 | Test Loss: 0.17814\n",
      "Epoch: 145 | Loss: 0.69681 | Test Loss: 0.17552\n",
      "Epoch: 146 | Loss: 0.68589 | Test Loss: 0.17783\n",
      "Epoch: 147 | Loss: 0.69636 | Test Loss: 0.17530\n",
      "Epoch: 148 | Loss: 0.68578 | Test Loss: 0.17757\n",
      "Epoch: 149 | Loss: 0.69603 | Test Loss: 0.17509\n",
      "Epoch: 150 | Loss: 0.68560 | Test Loss: 0.17737\n",
      "Epoch: 151 | Loss: 0.69583 | Test Loss: 0.17489\n",
      "Epoch: 152 | Loss: 0.68535 | Test Loss: 0.17722\n",
      "Epoch: 153 | Loss: 0.69578 | Test Loss: 0.17471\n",
      "Epoch: 154 | Loss: 0.68505 | Test Loss: 0.17715\n",
      "Epoch: 155 | Loss: 0.69587 | Test Loss: 0.17455\n",
      "Epoch: 156 | Loss: 0.68470 | Test Loss: 0.17714\n",
      "Epoch: 157 | Loss: 0.69609 | Test Loss: 0.17443\n",
      "Epoch: 158 | Loss: 0.68433 | Test Loss: 0.17721\n",
      "Epoch: 159 | Loss: 0.69644 | Test Loss: 0.17434\n",
      "Epoch: 160 | Loss: 0.68394 | Test Loss: 0.17734\n",
      "Epoch: 161 | Loss: 0.69691 | Test Loss: 0.17429\n",
      "Epoch: 162 | Loss: 0.68355 | Test Loss: 0.17755\n",
      "Epoch: 163 | Loss: 0.69747 | Test Loss: 0.17429\n",
      "Epoch: 164 | Loss: 0.68320 | Test Loss: 0.17780\n",
      "Epoch: 165 | Loss: 0.69810 | Test Loss: 0.17435\n",
      "Epoch: 166 | Loss: 0.68292 | Test Loss: 0.17811\n",
      "Epoch: 167 | Loss: 0.69875 | Test Loss: 0.17447\n",
      "Epoch: 168 | Loss: 0.68274 | Test Loss: 0.17844\n",
      "Epoch: 169 | Loss: 0.69936 | Test Loss: 0.17465\n",
      "Epoch: 170 | Loss: 0.68269 | Test Loss: 0.17876\n",
      "Epoch: 171 | Loss: 0.69988 | Test Loss: 0.17487\n",
      "Epoch: 172 | Loss: 0.68279 | Test Loss: 0.17905\n",
      "Epoch: 173 | Loss: 0.70024 | Test Loss: 0.17512\n",
      "Epoch: 174 | Loss: 0.68303 | Test Loss: 0.17929\n",
      "Epoch: 175 | Loss: 0.70041 | Test Loss: 0.17537\n",
      "Epoch: 176 | Loss: 0.68340 | Test Loss: 0.17943\n",
      "Epoch: 177 | Loss: 0.70038 | Test Loss: 0.17560\n",
      "Epoch: 178 | Loss: 0.68385 | Test Loss: 0.17947\n",
      "Epoch: 179 | Loss: 0.70014 | Test Loss: 0.17578\n",
      "Epoch: 180 | Loss: 0.68433 | Test Loss: 0.17942\n",
      "Epoch: 181 | Loss: 0.69974 | Test Loss: 0.17590\n",
      "Epoch: 182 | Loss: 0.68480 | Test Loss: 0.17926\n",
      "Epoch: 183 | Loss: 0.69921 | Test Loss: 0.17594\n",
      "Epoch: 184 | Loss: 0.68520 | Test Loss: 0.17904\n",
      "Epoch: 185 | Loss: 0.69862 | Test Loss: 0.17591\n",
      "Epoch: 186 | Loss: 0.68551 | Test Loss: 0.17877\n",
      "Epoch: 187 | Loss: 0.69802 | Test Loss: 0.17582\n",
      "Epoch: 188 | Loss: 0.68571 | Test Loss: 0.17849\n",
      "Epoch: 189 | Loss: 0.69747 | Test Loss: 0.17569\n",
      "Epoch: 190 | Loss: 0.68580 | Test Loss: 0.17822\n",
      "Epoch: 191 | Loss: 0.69701 | Test Loss: 0.17553\n",
      "Epoch: 192 | Loss: 0.68578 | Test Loss: 0.17797\n",
      "Epoch: 193 | Loss: 0.69665 | Test Loss: 0.17535\n",
      "Epoch: 194 | Loss: 0.68567 | Test Loss: 0.17776\n",
      "Epoch: 195 | Loss: 0.69642 | Test Loss: 0.17517\n",
      "Epoch: 196 | Loss: 0.68548 | Test Loss: 0.17761\n",
      "Epoch: 197 | Loss: 0.69630 | Test Loss: 0.17499\n",
      "Epoch: 198 | Loss: 0.68522 | Test Loss: 0.17750\n",
      "Epoch: 199 | Loss: 0.69632 | Test Loss: 0.17483\n"
     ]
    }
   ],
   "source": [
    "epochs = 200\n",
    "train_loss1 = []\n",
    "test_lossl = []\n",
    "epoc = []\n",
    "for epoch in range(epochs):\n",
    "    training_loss = 0\n",
    "    sae.train()\n",
    "    y_pred = sae(training_set)\n",
    "\n",
    "    loss = criterion(y_pred , training_set)\n",
    "    train_loss1.append(loss)\n",
    "    optimizer.zero_grad()\n",
    "\n",
    "    loss.backward()\n",
    "    optimizer.step()\n",
    "    sae.eval()\n",
    "\n",
    "    \n",
    "\n",
    "    with torch.inference_mode():\n",
    "        \n",
    "        y_test_pred= sae(test_set)\n",
    "\n",
    "        test_loss = criterion(y_test_pred,\n",
    "                        test_set)\n",
    "        # test_acc = accuracy(y_true=y_test,\n",
    "        #                 y_pred = test_pred)\n",
    "        # test_acc_list.append(test_acc)\n",
    "        epoc.append(epoch)\n",
    "        test_lossl.append(test_loss)\n",
    "\n",
    "\n",
    "    # if epoch%10 == 0:\n",
    "    print(f\"Epoch: {epoch} | Loss: {loss:.5f} | Test Loss: {test_loss:.5f}\")"
   ]
  },
  {
   "cell_type": "code",
   "execution_count": null,
   "metadata": {},
   "outputs": [
    {
     "data": {
      "text/plain": [
       "[<matplotlib.lines.Line2D at 0x1c7427eb2d0>]"
      ]
     },
     "execution_count": 12,
     "metadata": {},
     "output_type": "execute_result"
    },
    {
     "data": {
      "image/png": "[encoded data removed]",
      "text/plain": [
       "<Figure size 640x480 with 1 Axes>"
      ]
     },
     "metadata": {},
     "output_type": "display_data"
    }
   ],
   "source": [
    "plt.plot(epoc,test_lossl)"
   ]
  },
  {
   "cell_type": "code",
   "execution_count": null,
   "metadata": {},
   "outputs": [],
   "source": []
  },
  {
   "cell_type": "code",
   "execution_count": null,
   "metadata": {},
   "outputs": [],
   "source": []
  }
 ],
 "metadata": {
  "kernelspec": {
   "display_name": "Python 3",
   "language": "python",
   "name": "python3"
  },
  "language_info": {
   "codemirror_mode": {
    "name": "ipython",
    "version": 3
   },
   "file_extension": ".py",
   "mimetype": "text/x-python",
   "name": "python",
   "nbconvert_exporter": "python",
   "pygments_lexer": "ipython3",
   "version": "3.11.8"
  }
 },
 "nbformat": 4,
 "nbformat_minor": 2
}
